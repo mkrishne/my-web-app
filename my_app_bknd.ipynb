{
 "cells": [
  {
   "cell_type": "raw",
   "id": "d32a0a67-0801-4500-9bde-11f472f6ad39",
   "metadata": {},
   "source": [
    "---\n",
    "title: Tips dashboard\n",
    "description : Explore tips dataset\n",
    "show-code: False\n",
    "---"
   ]
  },
  {
   "cell_type": "code",
   "execution_count": 9,
   "id": "a6649c79-dd65-4c8c-9cdc-4b6b09b8b67f",
   "metadata": {},
   "outputs": [
    {
     "data": {
      "application/vnd.jupyter.widget-view+json": {
       "model_id": "83ca1bea257b418695a2c8e8fa08658b",
       "version_major": 2,
       "version_minor": 0
      },
      "text/plain": [
       "IntSlider(value=0)"
      ]
     },
     "metadata": {},
     "output_type": "display_data"
    }
   ],
   "source": [
    "import ipywidgets as widgets\n",
    "from IPython.display import display\n",
    "w = widgets.IntSlider()\n",
    "display(w)"
   ]
  },
  {
   "cell_type": "code",
   "execution_count": 10,
   "id": "caa0b8b3-7b70-4572-b39a-97673112c4f3",
   "metadata": {},
   "outputs": [
    {
     "name": "stdout",
     "output_type": "stream",
     "text": [
      "PostgreSQL server information\n",
      "{'user': 'postgres', 'channel_binding': 'prefer', 'dbname': 'postgres', 'host': '128.46.199.238', 'port': '5432', 'options': '', 'sslmode': 'prefer', 'sslcompression': '0', 'sslsni': '1', 'ssl_min_protocol_version': 'TLSv1.2', 'gssencmode': 'disable', 'krbsrvname': 'postgres', 'target_session_attrs': 'any'} \n",
      "\n",
      "You are connected to -  ('PostgreSQL 14.6 (Ubuntu 14.6-1.pgdg22.04+1) on x86_64-pc-linux-gnu, compiled by gcc (Ubuntu 11.3.0-1ubuntu1~22.04) 11.3.0, 64-bit',) \n",
      "\n",
      "Result  [(20, 179, 2, 3, '{left}', '0102000020E6100000020000000D05FF4D8C0755C08CFF414A0E7D45406C2C855F8C0755C013A2DD5A177D4540'), (21, 179, 3, 2, '{straight}', '0102000020E610000002000000D9C95D16890755C004799AD50A7D45408367DEAF820755C004799AD50A7D4540'), (22, 179, 4, 2, '{right,left}', '0102000020E610000002000000B453E36F880755C0EF138ABB097D454068A23F58820755C0EF138ABB097D4540'), (23, 179, 5, 4, '{right,straight}', '0102000020E610000002000000177BC19E8B0755C0AC70B6EC047D4540B7533B8D8B0755C00E8ABB8EFA7C4540'), (24, 179, 6, 7, '{left}', '0102000020E610000002000000AB2C855F8C0755C037A688F9047D45409D18C2568C0755C023E4A8DBFA7C4540'), (25, 179, 7, 1, '{right,left,straight}', '0102000020E610000002000000BB2C29A98F0755C0A494F6F1087D4540F16722FE950755C0992D52D8087D4540'), (19, 179, 1, 8, '{right,straight}', '0102000020E61000000200000093A2FF058D0755C08CFF414A0E7D454093A2FF058D0755C06597E5E7177D4540')]\n",
      "PostgreSQL connection is closed\n"
     ]
    }
   ],
   "source": [
    "import psycopg2\n",
    "from psycopg2 import Error\n",
    "r = None\n",
    "try:\n",
    "    # Connect to an existing database\n",
    "    connection = psycopg2.connect(user=\"postgres\",\n",
    "                                  password=\"ynj8buz\",\n",
    "                                  host=\"128.46.199.238\",\n",
    "                                  port=\"5432\",\n",
    "                                  database=\"postgres\")\n",
    "                                  \n",
    "    cursor = connection.cursor()\n",
    "    print(\"PostgreSQL server information\")\n",
    "    print(connection.get_dsn_parameters(), \"\\n\")\n",
    "    # Executing a SQL query\n",
    "    cursor.execute(\"SELECT version();\")\n",
    "    # Fetch result\n",
    "    record = cursor.fetchone()\n",
    "    r = record\n",
    "    print(\"You are connected to - \", record, \"\\n\")\n",
    "    \n",
    "    cursor.execute(\"SELECT * from lanes WHERE intersection_id = '179' LIMIT 500\")\n",
    "    record = cursor.fetchall()\n",
    "    print(\"Result \", record)\n",
    "\n",
    "except (Exception, Error) as error:\n",
    "    print(\"Error while connecting to PostgreSQL\", error)\n",
    "finally:\n",
    "    if (connection):\n",
    "        cursor.close()\n",
    "        connection.close()\n",
    "        print(\"PostgreSQL connection is closed\")"
   ]
  },
  {
   "cell_type": "code",
   "execution_count": 11,
   "id": "c48fed83-5e69-434d-aab5-3c3c043c28ae",
   "metadata": {},
   "outputs": [
    {
     "data": {
      "application/vnd.jupyter.widget-view+json": {
       "model_id": "9f55fa92e308475180e353e5522cc9d2",
       "version_major": 2,
       "version_minor": 0
      },
      "text/plain": [
       "HTML(value=\"Record: [(20, 179, 2, 3, '{left}', '0102000020E6100000020000000D05FF4D8C0755C08CFF414A0E7D45406C2C…"
      ]
     },
     "metadata": {},
     "output_type": "display_data"
    }
   ],
   "source": [
    "s = f\"Record: {record}\"\n",
    "w = widgets.HTML(\n",
    "    value=s,\n",
    "    placeholder='Some HTML',\n",
    "    description='Some HTML',\n",
    ")\n",
    "\n",
    "display(w)"
   ]
  },
  {
   "cell_type": "code",
   "execution_count": null,
   "id": "69cfbf9a-e35d-473f-a095-901722799716",
   "metadata": {},
   "outputs": [],
   "source": []
  }
 ],
 "metadata": {
  "kernelspec": {
   "display_name": "Python 3 (ipykernel)",
   "language": "python",
   "name": "python3"
  },
  "language_info": {
   "codemirror_mode": {
    "name": "ipython",
    "version": 3
   },
   "file_extension": ".py",
   "mimetype": "text/x-python",
   "name": "python",
   "nbconvert_exporter": "python",
   "pygments_lexer": "ipython3",
   "version": "3.10.7"
  }
 },
 "nbformat": 4,
 "nbformat_minor": 5
}
